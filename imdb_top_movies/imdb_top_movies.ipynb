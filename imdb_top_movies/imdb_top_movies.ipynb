{
 "cells": [
  {
   "cell_type": "code",
   "execution_count": 12,
   "id": "7508e9a4-e426-4638-9301-6cfce4ac3620",
   "metadata": {},
   "outputs": [
    {
     "data": {
      "text/html": [
       "<div>\n",
       "<style scoped>\n",
       "    .dataframe tbody tr th:only-of-type {\n",
       "        vertical-align: middle;\n",
       "    }\n",
       "\n",
       "    .dataframe tbody tr th {\n",
       "        vertical-align: top;\n",
       "    }\n",
       "\n",
       "    .dataframe thead th {\n",
       "        text-align: right;\n",
       "    }\n",
       "</style>\n",
       "<table border=\"1\" class=\"dataframe\">\n",
       "  <thead>\n",
       "    <tr style=\"text-align: right;\">\n",
       "      <th></th>\n",
       "      <th>Rank</th>\n",
       "      <th>Title</th>\n",
       "      <th>Year</th>\n",
       "      <th>Rating</th>\n",
       "      <th>Duration</th>\n",
       "      <th>IMDb URL</th>\n",
       "      <th>Image URL</th>\n",
       "    </tr>\n",
       "  </thead>\n",
       "  <tbody>\n",
       "    <tr>\n",
       "      <th>0</th>\n",
       "      <td>1</td>\n",
       "      <td>The Shawshank Redemption</td>\n",
       "      <td>1994</td>\n",
       "      <td>9.3</td>\n",
       "      <td>2h 22m</td>\n",
       "      <td>https://www.imdb.com/title/tt0111161/</td>\n",
       "      <td>https://m.media-amazon.com/images/M/MV5BMDAyY2...</td>\n",
       "    </tr>\n",
       "    <tr>\n",
       "      <th>1</th>\n",
       "      <td>2</td>\n",
       "      <td>The Godfather</td>\n",
       "      <td>1972</td>\n",
       "      <td>9.2</td>\n",
       "      <td>2h 55m</td>\n",
       "      <td>https://www.imdb.com/title/tt0068646/</td>\n",
       "      <td>https://m.media-amazon.com/images/M/MV5BNGEwYj...</td>\n",
       "    </tr>\n",
       "    <tr>\n",
       "      <th>2</th>\n",
       "      <td>3</td>\n",
       "      <td>The Dark Knight</td>\n",
       "      <td>2008</td>\n",
       "      <td>9.1</td>\n",
       "      <td>2h 32m</td>\n",
       "      <td>https://www.imdb.com/title/tt0468569/</td>\n",
       "      <td>https://m.media-amazon.com/images/M/MV5BMTMxNT...</td>\n",
       "    </tr>\n",
       "    <tr>\n",
       "      <th>3</th>\n",
       "      <td>4</td>\n",
       "      <td>The Godfather Part II</td>\n",
       "      <td>1974</td>\n",
       "      <td>9.0</td>\n",
       "      <td>3h 22m</td>\n",
       "      <td>https://www.imdb.com/title/tt0071562/</td>\n",
       "      <td>https://m.media-amazon.com/images/M/MV5BMDIxMz...</td>\n",
       "    </tr>\n",
       "    <tr>\n",
       "      <th>4</th>\n",
       "      <td>5</td>\n",
       "      <td>12 Angry Men</td>\n",
       "      <td>1957</td>\n",
       "      <td>9.0</td>\n",
       "      <td>1h 36m</td>\n",
       "      <td>https://www.imdb.com/title/tt0050083/</td>\n",
       "      <td>https://m.media-amazon.com/images/M/MV5BYjE4Nz...</td>\n",
       "    </tr>\n",
       "    <tr>\n",
       "      <th>...</th>\n",
       "      <td>...</td>\n",
       "      <td>...</td>\n",
       "      <td>...</td>\n",
       "      <td>...</td>\n",
       "      <td>...</td>\n",
       "      <td>...</td>\n",
       "      <td>...</td>\n",
       "    </tr>\n",
       "    <tr>\n",
       "      <th>245</th>\n",
       "      <td>246</td>\n",
       "      <td>The Grapes of Wrath</td>\n",
       "      <td>1940</td>\n",
       "      <td>8.1</td>\n",
       "      <td>2h 9m</td>\n",
       "      <td>https://www.imdb.com/title/tt0032551/</td>\n",
       "      <td>https://m.media-amazon.com/images/M/MV5BZDgzZj...</td>\n",
       "    </tr>\n",
       "    <tr>\n",
       "      <th>246</th>\n",
       "      <td>247</td>\n",
       "      <td>To Be or Not to Be</td>\n",
       "      <td>1942</td>\n",
       "      <td>8.1</td>\n",
       "      <td>1h 39m</td>\n",
       "      <td>https://www.imdb.com/title/tt0035446/</td>\n",
       "      <td>https://m.media-amazon.com/images/M/MV5BMTA5OT...</td>\n",
       "    </tr>\n",
       "    <tr>\n",
       "      <th>247</th>\n",
       "      <td>248</td>\n",
       "      <td>Gangs of Wasseypur</td>\n",
       "      <td>2012</td>\n",
       "      <td>8.2</td>\n",
       "      <td>5h 21m</td>\n",
       "      <td>https://www.imdb.com/title/tt1954470/</td>\n",
       "      <td>https://m.media-amazon.com/images/M/MV5BMTc5Nj...</td>\n",
       "    </tr>\n",
       "    <tr>\n",
       "      <th>248</th>\n",
       "      <td>249</td>\n",
       "      <td>Drishyam</td>\n",
       "      <td>2015</td>\n",
       "      <td>8.2</td>\n",
       "      <td>2h 43m</td>\n",
       "      <td>https://www.imdb.com/title/tt4430212/</td>\n",
       "      <td>https://m.media-amazon.com/images/M/MV5BM2NmMG...</td>\n",
       "    </tr>\n",
       "    <tr>\n",
       "      <th>249</th>\n",
       "      <td>250</td>\n",
       "      <td>The Help</td>\n",
       "      <td>2011</td>\n",
       "      <td>8.1</td>\n",
       "      <td>2h 26m</td>\n",
       "      <td>https://www.imdb.com/title/tt1454029/</td>\n",
       "      <td>https://m.media-amazon.com/images/M/MV5BMTM5OT...</td>\n",
       "    </tr>\n",
       "  </tbody>\n",
       "</table>\n",
       "<p>250 rows × 7 columns</p>\n",
       "</div>"
      ],
      "text/plain": [
       "     Rank                     Title  Year  Rating Duration  \\\n",
       "0       1  The Shawshank Redemption  1994     9.3   2h 22m   \n",
       "1       2             The Godfather  1972     9.2   2h 55m   \n",
       "2       3           The Dark Knight  2008     9.1   2h 32m   \n",
       "3       4     The Godfather Part II  1974     9.0   3h 22m   \n",
       "4       5              12 Angry Men  1957     9.0   1h 36m   \n",
       "..    ...                       ...   ...     ...      ...   \n",
       "245   246       The Grapes of Wrath  1940     8.1    2h 9m   \n",
       "246   247        To Be or Not to Be  1942     8.1   1h 39m   \n",
       "247   248        Gangs of Wasseypur  2012     8.2   5h 21m   \n",
       "248   249                  Drishyam  2015     8.2   2h 43m   \n",
       "249   250                  The Help  2011     8.1   2h 26m   \n",
       "\n",
       "                                  IMDb URL  \\\n",
       "0    https://www.imdb.com/title/tt0111161/   \n",
       "1    https://www.imdb.com/title/tt0068646/   \n",
       "2    https://www.imdb.com/title/tt0468569/   \n",
       "3    https://www.imdb.com/title/tt0071562/   \n",
       "4    https://www.imdb.com/title/tt0050083/   \n",
       "..                                     ...   \n",
       "245  https://www.imdb.com/title/tt0032551/   \n",
       "246  https://www.imdb.com/title/tt0035446/   \n",
       "247  https://www.imdb.com/title/tt1954470/   \n",
       "248  https://www.imdb.com/title/tt4430212/   \n",
       "249  https://www.imdb.com/title/tt1454029/   \n",
       "\n",
       "                                             Image URL  \n",
       "0    https://m.media-amazon.com/images/M/MV5BMDAyY2...  \n",
       "1    https://m.media-amazon.com/images/M/MV5BNGEwYj...  \n",
       "2    https://m.media-amazon.com/images/M/MV5BMTMxNT...  \n",
       "3    https://m.media-amazon.com/images/M/MV5BMDIxMz...  \n",
       "4    https://m.media-amazon.com/images/M/MV5BYjE4Nz...  \n",
       "..                                                 ...  \n",
       "245  https://m.media-amazon.com/images/M/MV5BZDgzZj...  \n",
       "246  https://m.media-amazon.com/images/M/MV5BMTA5OT...  \n",
       "247  https://m.media-amazon.com/images/M/MV5BMTc5Nj...  \n",
       "248  https://m.media-amazon.com/images/M/MV5BM2NmMG...  \n",
       "249  https://m.media-amazon.com/images/M/MV5BMTM5OT...  \n",
       "\n",
       "[250 rows x 7 columns]"
      ]
     },
     "execution_count": 12,
     "metadata": {},
     "output_type": "execute_result"
    }
   ],
   "source": [
    "#importing the dataset\n",
    "import pandas as pd\n",
    "data=pd.read_csv('imdb_top_movies.csv')\n",
    "data"
   ]
  },
  {
   "cell_type": "code",
   "execution_count": 21,
   "id": "4019d36e-b87d-405b-881c-d4d942b6f27c",
   "metadata": {},
   "outputs": [],
   "source": [
    "#dropping Image UR and movie URL cause we don't need it\n",
    "data=data.drop(['IMDb URL','Image URL'],axis=1)"
   ]
  },
  {
   "cell_type": "code",
   "execution_count": 197,
   "id": "eca365ec-d7cd-4da5-ad20-2aa9c3f44e5c",
   "metadata": {},
   "outputs": [
    {
     "data": {
      "text/plain": [
       "0      142\n",
       "1      175\n",
       "2      152\n",
       "3      202\n",
       "4       96\n",
       "      ... \n",
       "245    129\n",
       "246     99\n",
       "247    321\n",
       "248    163\n",
       "249    146\n",
       "Name: Duration in minutes, Length: 250, dtype: int64"
      ]
     },
     "execution_count": 197,
     "metadata": {},
     "output_type": "execute_result"
    }
   ],
   "source": [
    "#trying to convert Duration into integer values\n",
    "data.iloc[:,4]"
   ]
  },
  {
   "cell_type": "code",
   "execution_count": 123,
   "id": "878042fd-2a43-49d4-a9a2-45e80264e120",
   "metadata": {},
   "outputs": [],
   "source": [
    "#there's one duration values which only contains minutes in format '#Mm' which's in index 205\n",
    "#the others are in the format of '%Hh %Mm'\n",
    "from datetime import time\n",
    "for i in range(0,250):\n",
    "    if(i!=205):\n",
    "        data.iloc[i,4]=pd.to_datetime(data.iloc[i,4],format='%Hh %Mm')\n",
    "data.iloc[205,4]=pd.to_datetime(data.iloc[205,4],format='%Mm')"
   ]
  },
  {
   "cell_type": "code",
   "execution_count": 125,
   "id": "45ca8b3f-2ab6-465c-8896-ceaf0b360c14",
   "metadata": {},
   "outputs": [
    {
     "data": {
      "text/html": [
       "<div>\n",
       "<style scoped>\n",
       "    .dataframe tbody tr th:only-of-type {\n",
       "        vertical-align: middle;\n",
       "    }\n",
       "\n",
       "    .dataframe tbody tr th {\n",
       "        vertical-align: top;\n",
       "    }\n",
       "\n",
       "    .dataframe thead th {\n",
       "        text-align: right;\n",
       "    }\n",
       "</style>\n",
       "<table border=\"1\" class=\"dataframe\">\n",
       "  <thead>\n",
       "    <tr style=\"text-align: right;\">\n",
       "      <th></th>\n",
       "      <th>Rank</th>\n",
       "      <th>Title</th>\n",
       "      <th>Year</th>\n",
       "      <th>Rating</th>\n",
       "      <th>Duration</th>\n",
       "    </tr>\n",
       "  </thead>\n",
       "  <tbody>\n",
       "    <tr>\n",
       "      <th>0</th>\n",
       "      <td>1</td>\n",
       "      <td>The Shawshank Redemption</td>\n",
       "      <td>1994</td>\n",
       "      <td>9.3</td>\n",
       "      <td>1900-01-01 02:22:00</td>\n",
       "    </tr>\n",
       "    <tr>\n",
       "      <th>1</th>\n",
       "      <td>2</td>\n",
       "      <td>The Godfather</td>\n",
       "      <td>1972</td>\n",
       "      <td>9.2</td>\n",
       "      <td>1900-01-01 02:55:00</td>\n",
       "    </tr>\n",
       "    <tr>\n",
       "      <th>2</th>\n",
       "      <td>3</td>\n",
       "      <td>The Dark Knight</td>\n",
       "      <td>2008</td>\n",
       "      <td>9.1</td>\n",
       "      <td>1900-01-01 02:32:00</td>\n",
       "    </tr>\n",
       "    <tr>\n",
       "      <th>3</th>\n",
       "      <td>4</td>\n",
       "      <td>The Godfather Part II</td>\n",
       "      <td>1974</td>\n",
       "      <td>9.0</td>\n",
       "      <td>1900-01-01 03:22:00</td>\n",
       "    </tr>\n",
       "    <tr>\n",
       "      <th>4</th>\n",
       "      <td>5</td>\n",
       "      <td>12 Angry Men</td>\n",
       "      <td>1957</td>\n",
       "      <td>9.0</td>\n",
       "      <td>1900-01-01 01:36:00</td>\n",
       "    </tr>\n",
       "    <tr>\n",
       "      <th>...</th>\n",
       "      <td>...</td>\n",
       "      <td>...</td>\n",
       "      <td>...</td>\n",
       "      <td>...</td>\n",
       "      <td>...</td>\n",
       "    </tr>\n",
       "    <tr>\n",
       "      <th>245</th>\n",
       "      <td>246</td>\n",
       "      <td>The Grapes of Wrath</td>\n",
       "      <td>1940</td>\n",
       "      <td>8.1</td>\n",
       "      <td>1900-01-01 02:09:00</td>\n",
       "    </tr>\n",
       "    <tr>\n",
       "      <th>246</th>\n",
       "      <td>247</td>\n",
       "      <td>To Be or Not to Be</td>\n",
       "      <td>1942</td>\n",
       "      <td>8.1</td>\n",
       "      <td>1900-01-01 01:39:00</td>\n",
       "    </tr>\n",
       "    <tr>\n",
       "      <th>247</th>\n",
       "      <td>248</td>\n",
       "      <td>Gangs of Wasseypur</td>\n",
       "      <td>2012</td>\n",
       "      <td>8.2</td>\n",
       "      <td>1900-01-01 05:21:00</td>\n",
       "    </tr>\n",
       "    <tr>\n",
       "      <th>248</th>\n",
       "      <td>249</td>\n",
       "      <td>Drishyam</td>\n",
       "      <td>2015</td>\n",
       "      <td>8.2</td>\n",
       "      <td>1900-01-01 02:43:00</td>\n",
       "    </tr>\n",
       "    <tr>\n",
       "      <th>249</th>\n",
       "      <td>250</td>\n",
       "      <td>The Help</td>\n",
       "      <td>2011</td>\n",
       "      <td>8.1</td>\n",
       "      <td>1900-01-01 02:26:00</td>\n",
       "    </tr>\n",
       "  </tbody>\n",
       "</table>\n",
       "<p>250 rows × 5 columns</p>\n",
       "</div>"
      ],
      "text/plain": [
       "     Rank                     Title  Year  Rating             Duration\n",
       "0       1  The Shawshank Redemption  1994     9.3  1900-01-01 02:22:00\n",
       "1       2             The Godfather  1972     9.2  1900-01-01 02:55:00\n",
       "2       3           The Dark Knight  2008     9.1  1900-01-01 02:32:00\n",
       "3       4     The Godfather Part II  1974     9.0  1900-01-01 03:22:00\n",
       "4       5              12 Angry Men  1957     9.0  1900-01-01 01:36:00\n",
       "..    ...                       ...   ...     ...                  ...\n",
       "245   246       The Grapes of Wrath  1940     8.1  1900-01-01 02:09:00\n",
       "246   247        To Be or Not to Be  1942     8.1  1900-01-01 01:39:00\n",
       "247   248        Gangs of Wasseypur  2012     8.2  1900-01-01 05:21:00\n",
       "248   249                  Drishyam  2015     8.2  1900-01-01 02:43:00\n",
       "249   250                  The Help  2011     8.1  1900-01-01 02:26:00\n",
       "\n",
       "[250 rows x 5 columns]"
      ]
     },
     "execution_count": 125,
     "metadata": {},
     "output_type": "execute_result"
    }
   ],
   "source": [
    "data"
   ]
  },
  {
   "cell_type": "code",
   "execution_count": 137,
   "id": "9d9d81cc-7f7d-47cd-be57-73185055f91f",
   "metadata": {},
   "outputs": [],
   "source": [
    "#Now we transform hours to minutes with multiplying them by 60 and we add them to minutes\n",
    "data['Duration']=pd.to_datetime(data['Duration'])\n",
    "data['Duration']=data['Duration'].dt.hour*60+data['Duration'].dt.minute"
   ]
  },
  {
   "cell_type": "code",
   "execution_count": 139,
   "id": "2addeaff-2681-4fcc-890a-4b5cc9a87d9f",
   "metadata": {},
   "outputs": [
    {
     "data": {
      "text/html": [
       "<div>\n",
       "<style scoped>\n",
       "    .dataframe tbody tr th:only-of-type {\n",
       "        vertical-align: middle;\n",
       "    }\n",
       "\n",
       "    .dataframe tbody tr th {\n",
       "        vertical-align: top;\n",
       "    }\n",
       "\n",
       "    .dataframe thead th {\n",
       "        text-align: right;\n",
       "    }\n",
       "</style>\n",
       "<table border=\"1\" class=\"dataframe\">\n",
       "  <thead>\n",
       "    <tr style=\"text-align: right;\">\n",
       "      <th></th>\n",
       "      <th>Rank</th>\n",
       "      <th>Title</th>\n",
       "      <th>Year</th>\n",
       "      <th>Rating</th>\n",
       "      <th>Duration</th>\n",
       "    </tr>\n",
       "  </thead>\n",
       "  <tbody>\n",
       "    <tr>\n",
       "      <th>0</th>\n",
       "      <td>1</td>\n",
       "      <td>The Shawshank Redemption</td>\n",
       "      <td>1994</td>\n",
       "      <td>9.3</td>\n",
       "      <td>142</td>\n",
       "    </tr>\n",
       "    <tr>\n",
       "      <th>1</th>\n",
       "      <td>2</td>\n",
       "      <td>The Godfather</td>\n",
       "      <td>1972</td>\n",
       "      <td>9.2</td>\n",
       "      <td>175</td>\n",
       "    </tr>\n",
       "    <tr>\n",
       "      <th>2</th>\n",
       "      <td>3</td>\n",
       "      <td>The Dark Knight</td>\n",
       "      <td>2008</td>\n",
       "      <td>9.1</td>\n",
       "      <td>152</td>\n",
       "    </tr>\n",
       "    <tr>\n",
       "      <th>3</th>\n",
       "      <td>4</td>\n",
       "      <td>The Godfather Part II</td>\n",
       "      <td>1974</td>\n",
       "      <td>9.0</td>\n",
       "      <td>202</td>\n",
       "    </tr>\n",
       "    <tr>\n",
       "      <th>4</th>\n",
       "      <td>5</td>\n",
       "      <td>12 Angry Men</td>\n",
       "      <td>1957</td>\n",
       "      <td>9.0</td>\n",
       "      <td>96</td>\n",
       "    </tr>\n",
       "    <tr>\n",
       "      <th>...</th>\n",
       "      <td>...</td>\n",
       "      <td>...</td>\n",
       "      <td>...</td>\n",
       "      <td>...</td>\n",
       "      <td>...</td>\n",
       "    </tr>\n",
       "    <tr>\n",
       "      <th>245</th>\n",
       "      <td>246</td>\n",
       "      <td>The Grapes of Wrath</td>\n",
       "      <td>1940</td>\n",
       "      <td>8.1</td>\n",
       "      <td>129</td>\n",
       "    </tr>\n",
       "    <tr>\n",
       "      <th>246</th>\n",
       "      <td>247</td>\n",
       "      <td>To Be or Not to Be</td>\n",
       "      <td>1942</td>\n",
       "      <td>8.1</td>\n",
       "      <td>99</td>\n",
       "    </tr>\n",
       "    <tr>\n",
       "      <th>247</th>\n",
       "      <td>248</td>\n",
       "      <td>Gangs of Wasseypur</td>\n",
       "      <td>2012</td>\n",
       "      <td>8.2</td>\n",
       "      <td>321</td>\n",
       "    </tr>\n",
       "    <tr>\n",
       "      <th>248</th>\n",
       "      <td>249</td>\n",
       "      <td>Drishyam</td>\n",
       "      <td>2015</td>\n",
       "      <td>8.2</td>\n",
       "      <td>163</td>\n",
       "    </tr>\n",
       "    <tr>\n",
       "      <th>249</th>\n",
       "      <td>250</td>\n",
       "      <td>The Help</td>\n",
       "      <td>2011</td>\n",
       "      <td>8.1</td>\n",
       "      <td>146</td>\n",
       "    </tr>\n",
       "  </tbody>\n",
       "</table>\n",
       "<p>250 rows × 5 columns</p>\n",
       "</div>"
      ],
      "text/plain": [
       "     Rank                     Title  Year  Rating  Duration\n",
       "0       1  The Shawshank Redemption  1994     9.3       142\n",
       "1       2             The Godfather  1972     9.2       175\n",
       "2       3           The Dark Knight  2008     9.1       152\n",
       "3       4     The Godfather Part II  1974     9.0       202\n",
       "4       5              12 Angry Men  1957     9.0        96\n",
       "..    ...                       ...   ...     ...       ...\n",
       "245   246       The Grapes of Wrath  1940     8.1       129\n",
       "246   247        To Be or Not to Be  1942     8.1        99\n",
       "247   248        Gangs of Wasseypur  2012     8.2       321\n",
       "248   249                  Drishyam  2015     8.2       163\n",
       "249   250                  The Help  2011     8.1       146\n",
       "\n",
       "[250 rows x 5 columns]"
      ]
     },
     "execution_count": 139,
     "metadata": {},
     "output_type": "execute_result"
    }
   ],
   "source": [
    "data"
   ]
  },
  {
   "cell_type": "code",
   "execution_count": 141,
   "id": "cf0edb93-171b-4b93-8677-c0511cfdcbb7",
   "metadata": {},
   "outputs": [
    {
     "data": {
      "text/plain": [
       "Index(['Rank', 'Title', 'Year', 'Rating', 'Duration'], dtype='object')"
      ]
     },
     "execution_count": 141,
     "metadata": {},
     "output_type": "execute_result"
    }
   ],
   "source": [
    "#we change column name from Duration to Duration in minutes\n",
    "data.columns"
   ]
  },
  {
   "cell_type": "code",
   "execution_count": 143,
   "id": "d6451b26-e7e4-4743-b624-3ba2077a8a57",
   "metadata": {},
   "outputs": [],
   "source": [
    "data.columns=['Rank', 'Title', 'Year', 'Rating', 'Duration in minutes']"
   ]
  },
  {
   "cell_type": "code",
   "execution_count": 145,
   "id": "6ece3621-3088-4491-856b-60455d82e402",
   "metadata": {},
   "outputs": [
    {
     "data": {
      "text/html": [
       "<div>\n",
       "<style scoped>\n",
       "    .dataframe tbody tr th:only-of-type {\n",
       "        vertical-align: middle;\n",
       "    }\n",
       "\n",
       "    .dataframe tbody tr th {\n",
       "        vertical-align: top;\n",
       "    }\n",
       "\n",
       "    .dataframe thead th {\n",
       "        text-align: right;\n",
       "    }\n",
       "</style>\n",
       "<table border=\"1\" class=\"dataframe\">\n",
       "  <thead>\n",
       "    <tr style=\"text-align: right;\">\n",
       "      <th></th>\n",
       "      <th>Rank</th>\n",
       "      <th>Title</th>\n",
       "      <th>Year</th>\n",
       "      <th>Rating</th>\n",
       "      <th>Duration in minutes</th>\n",
       "    </tr>\n",
       "  </thead>\n",
       "  <tbody>\n",
       "    <tr>\n",
       "      <th>0</th>\n",
       "      <td>1</td>\n",
       "      <td>The Shawshank Redemption</td>\n",
       "      <td>1994</td>\n",
       "      <td>9.3</td>\n",
       "      <td>142</td>\n",
       "    </tr>\n",
       "    <tr>\n",
       "      <th>1</th>\n",
       "      <td>2</td>\n",
       "      <td>The Godfather</td>\n",
       "      <td>1972</td>\n",
       "      <td>9.2</td>\n",
       "      <td>175</td>\n",
       "    </tr>\n",
       "    <tr>\n",
       "      <th>2</th>\n",
       "      <td>3</td>\n",
       "      <td>The Dark Knight</td>\n",
       "      <td>2008</td>\n",
       "      <td>9.1</td>\n",
       "      <td>152</td>\n",
       "    </tr>\n",
       "    <tr>\n",
       "      <th>3</th>\n",
       "      <td>4</td>\n",
       "      <td>The Godfather Part II</td>\n",
       "      <td>1974</td>\n",
       "      <td>9.0</td>\n",
       "      <td>202</td>\n",
       "    </tr>\n",
       "    <tr>\n",
       "      <th>4</th>\n",
       "      <td>5</td>\n",
       "      <td>12 Angry Men</td>\n",
       "      <td>1957</td>\n",
       "      <td>9.0</td>\n",
       "      <td>96</td>\n",
       "    </tr>\n",
       "    <tr>\n",
       "      <th>...</th>\n",
       "      <td>...</td>\n",
       "      <td>...</td>\n",
       "      <td>...</td>\n",
       "      <td>...</td>\n",
       "      <td>...</td>\n",
       "    </tr>\n",
       "    <tr>\n",
       "      <th>245</th>\n",
       "      <td>246</td>\n",
       "      <td>The Grapes of Wrath</td>\n",
       "      <td>1940</td>\n",
       "      <td>8.1</td>\n",
       "      <td>129</td>\n",
       "    </tr>\n",
       "    <tr>\n",
       "      <th>246</th>\n",
       "      <td>247</td>\n",
       "      <td>To Be or Not to Be</td>\n",
       "      <td>1942</td>\n",
       "      <td>8.1</td>\n",
       "      <td>99</td>\n",
       "    </tr>\n",
       "    <tr>\n",
       "      <th>247</th>\n",
       "      <td>248</td>\n",
       "      <td>Gangs of Wasseypur</td>\n",
       "      <td>2012</td>\n",
       "      <td>8.2</td>\n",
       "      <td>321</td>\n",
       "    </tr>\n",
       "    <tr>\n",
       "      <th>248</th>\n",
       "      <td>249</td>\n",
       "      <td>Drishyam</td>\n",
       "      <td>2015</td>\n",
       "      <td>8.2</td>\n",
       "      <td>163</td>\n",
       "    </tr>\n",
       "    <tr>\n",
       "      <th>249</th>\n",
       "      <td>250</td>\n",
       "      <td>The Help</td>\n",
       "      <td>2011</td>\n",
       "      <td>8.1</td>\n",
       "      <td>146</td>\n",
       "    </tr>\n",
       "  </tbody>\n",
       "</table>\n",
       "<p>250 rows × 5 columns</p>\n",
       "</div>"
      ],
      "text/plain": [
       "     Rank                     Title  Year  Rating  Duration in minutes\n",
       "0       1  The Shawshank Redemption  1994     9.3                  142\n",
       "1       2             The Godfather  1972     9.2                  175\n",
       "2       3           The Dark Knight  2008     9.1                  152\n",
       "3       4     The Godfather Part II  1974     9.0                  202\n",
       "4       5              12 Angry Men  1957     9.0                   96\n",
       "..    ...                       ...   ...     ...                  ...\n",
       "245   246       The Grapes of Wrath  1940     8.1                  129\n",
       "246   247        To Be or Not to Be  1942     8.1                   99\n",
       "247   248        Gangs of Wasseypur  2012     8.2                  321\n",
       "248   249                  Drishyam  2015     8.2                  163\n",
       "249   250                  The Help  2011     8.1                  146\n",
       "\n",
       "[250 rows x 5 columns]"
      ]
     },
     "execution_count": 145,
     "metadata": {},
     "output_type": "execute_result"
    }
   ],
   "source": [
    "data"
   ]
  },
  {
   "cell_type": "code",
   "execution_count": 173,
   "id": "a03bac4b-1771-422b-b6a7-22e7fc0c2646",
   "metadata": {},
   "outputs": [
    {
     "data": {
      "text/plain": [
       "7.90868"
      ]
     },
     "execution_count": 173,
     "metadata": {},
     "output_type": "execute_result"
    }
   ],
   "source": [
    "#Now let's create a linear rgression between movie ratings, Year and Duration\n",
    "from sklearn.linear_model import LinearRegression\n",
    "x=data[['Year','Duration in minutes']]\n",
    "y=data['Rating']\n",
    "model=LinearRegression()\n",
    "model.fit(x,y)\n",
    "coef=model.coef_\n",
    "coef.round(5)\n",
    "b=model.intercept_.round(5)"
   ]
  },
  {
   "cell_type": "code",
   "execution_count": 177,
   "id": "6d22bac8-c74a-4204-a018-a7e0e41fffef",
   "metadata": {},
   "outputs": [
    {
     "data": {
      "text/plain": [
       "[<matplotlib.lines.Line2D at 0x1d01f2f47d0>,\n",
       " <matplotlib.lines.Line2D at 0x1d01f2f48c0>]"
      ]
     },
     "execution_count": 177,
     "metadata": {},
     "output_type": "execute_result"
    },
    {
     "data": {
      "image/png": "[encoded data removed]",
      "text/plain": [
       "<Figure size 640x480 with 1 Axes>"
      ]
     },
     "metadata": {},
     "output_type": "display_data"
    }
   ],
   "source": [
    "#plotting the regression\n",
    "import matplotlib.pyplot as plt\n",
    "import seaborn as sns\n",
    "sns.set()\n",
    "yhat=coef*x+b\n",
    "plt.plot(yhat,c='orange',lw=10)"
   ]
  },
  {
   "cell_type": "code",
   "execution_count": 201,
   "id": "da7d3885-8e85-4f72-bf96-0b9dab7572c5",
   "metadata": {},
   "outputs": [
    {
     "data": {
      "image/png": "[encoded data removed]",
      "text/plain": [
       "<Figure size 640x480 with 1 Axes>"
      ]
     },
     "metadata": {},
     "output_type": "display_data"
    }
   ],
   "source": [
    "#plotting some different data\n",
    "X=data[['Year']]\n",
    "X1=data[['Duration in minutes']]\n",
    "plt.scatter(X,y)\n",
    "plt.xlabel('Year')\n",
    "plt.ylabel('Rating')\n",
    "plt.show()"
   ]
  },
  {
   "cell_type": "code",
   "execution_count": 203,
   "id": "d03f802d-040d-42a5-8330-5f4df382a8bd",
   "metadata": {},
   "outputs": [
    {
     "data": {
      "image/png": "[encoded data removed]",
      "text/plain": [
       "<Figure size 640x480 with 1 Axes>"
      ]
     },
     "metadata": {},
     "output_type": "display_data"
    }
   ],
   "source": [
    "plt.scatter(X1,y)\n",
    "plt.xlabel('Duration in minutes')\n",
    "plt.ylabel('Rating')\n",
    "plt.show()"
   ]
  },
  {
   "cell_type": "code",
   "execution_count": 213,
   "id": "4509080f-7460-4b57-80f4-35c2b7e56e39",
   "metadata": {},
   "outputs": [
    {
     "data": {
      "image/png": "[encoded data removed]",
      "text/plain": [
       "<Figure size 585.875x500 with 1 Axes>"
      ]
     },
     "metadata": {},
     "output_type": "display_data"
    }
   ],
   "source": [
    "fig=sns.displot(X,label='Year distribution')"
   ]
  },
  {
   "cell_type": "code",
   "execution_count": 217,
   "id": "d423f52c-4364-4185-a45a-fdca4a8ad548",
   "metadata": {},
   "outputs": [
    {
     "data": {
      "image/png": "[encoded data removed]",
      "text/plain": [
       "<Figure size 686.75x500 with 1 Axes>"
      ]
     },
     "metadata": {},
     "output_type": "display_data"
    }
   ],
   "source": [
    "fig1=sns.displot(X1,label='Duration distribution')"
   ]
  },
  {
   "cell_type": "code",
   "execution_count": 225,
   "id": "31292d5f-a048-4893-a769-d57fc87d6c9d",
   "metadata": {},
   "outputs": [
    {
     "data": {
      "text/plain": [
       "Text(0.5, 1.0, 'Ratings distribution')"
      ]
     },
     "execution_count": 225,
     "metadata": {},
     "output_type": "execute_result"
    },
    {
     "data": {
      "image/png": "[encoded data removed]",
      "text/plain": [
       "<Figure size 500x500 with 1 Axes>"
      ]
     },
     "metadata": {},
     "output_type": "display_data"
    }
   ],
   "source": [
    "fig2=sns.displot(y,label='Ratings distribution')\n",
    "plt.title('Ratings distribution')"
   ]
  },
  {
   "cell_type": "code",
   "execution_count": null,
   "id": "d6a479d4-5516-453f-9ef7-c6c511fb5167",
   "metadata": {},
   "outputs": [],
   "source": []
  }
 ],
 "metadata": {
  "kernelspec": {
   "display_name": "Python [conda env:base] *",
   "language": "python",
   "name": "conda-base-py"
  },
  "language_info": {
   "codemirror_mode": {
    "name": "ipython",
    "version": 3
   },
   "file_extension": ".py",
   "mimetype": "text/x-python",
   "name": "python",
   "nbconvert_exporter": "python",
   "pygments_lexer": "ipython3",
   "version": "3.12.3"
  }
 },
 "nbformat": 4,
 "nbformat_minor": 5
}
